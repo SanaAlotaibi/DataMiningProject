{
  "nbformat": 4,
  "nbformat_minor": 0,
  "metadata": {
    "colab": {
      "provenance": [],
      "authorship_tag": "ABX9TyPbOoBHhHbC69BvSMSZ9Go/",
      "include_colab_link": true
    },
    "kernelspec": {
      "name": "python3",
      "display_name": "Python 3"
    },
    "language_info": {
      "name": "python"
    }
  },
  "cells": [
    {
      "cell_type": "markdown",
      "metadata": {
        "id": "view-in-github",
        "colab_type": "text"
      },
      "source": [
        "<a href=\"https://colab.research.google.com/github/SanaAlotaibi/DataMiningProject/blob/main/phase3.ipynb\" target=\"_parent\"><img src=\"https://colab.research.google.com/assets/colab-badge.svg\" alt=\"Open In Colab\"/></a>"
      ]
    },
    {
      "cell_type": "code",
      "execution_count": 2,
      "metadata": {
        "colab": {
          "base_uri": "https://localhost:8080/"
        },
        "id": "mZAJ7kak0FFQ",
        "outputId": "9aa2a2bf-673a-4467-c6d8-ea7854a34a7e"
      },
      "outputs": [
        {
          "output_type": "stream",
          "name": "stdout",
          "text": [
            "fatal: destination path 'DataMiningProject' already exists and is not an empty directory.\n"
          ]
        }
      ],
      "source": [
        "!git clone https://github.com/SanaAlotaibi/DataMiningProject.git"
      ]
    },
    {
      "cell_type": "markdown",
      "source": [
        "-loading data"
      ],
      "metadata": {
        "id": "DfNibrFhBuRm"
      }
    },
    {
      "cell_type": "code",
      "source": [
        "import pandas as pd\n",
        "import numpy as np\n",
        "import seaborn as sns\n",
        "import matplotlib.pyplot as plt\n",
        "import matplotlib.pyplot as plt\n",
        "from sklearn.model_selection import train_test_split\n",
        "from sklearn.tree import DecisionTreeClassifier\n",
        "from sklearn.metrics import accuracy_score, classification_report, confusion_matrix\n",
        "\n",
        "\n",
        "file_path = '/content/DataMiningProject/Dataset/Processed_dataset.csv'\n",
        "data = pd.read_csv(file_path)\n",
        "\n"
      ],
      "metadata": {
        "id": "TyOGBAUT6b3I"
      },
      "execution_count": 10,
      "outputs": []
    },
    {
      "cell_type": "markdown",
      "source": [
        "- Decision tree classification using Gini index"
      ],
      "metadata": {
        "id": "ySgZcjYOCDDg"
      }
    },
    {
      "cell_type": "code",
      "source": [
        "target_column = 'Stress_Level'\n",
        "X = data.drop(columns=[target_column])\n",
        "y = data[target_column]\n",
        "\n",
        "split_sizes = [0.1, 0.2, 0.3]\n",
        "gini_results = {}\n",
        "\n",
        "for size in split_sizes:\n",
        "\n",
        "    X_train, X_test, y_train, y_test = train_test_split(X, y, test_size=size, random_state=1)\n",
        "\n",
        "    clf_gini = DecisionTreeClassifier(criterion='gini', random_state=42)\n",
        "    clf_gini.fit(X_train, y_train)\n",
        "\n",
        "    y_pred_gini = clf_gini.predict(X_test)\n",
        "\n",
        "    accuracy = accuracy_score(y_test, y_pred_gini)\n",
        "    gini_results[f\"Train {int((1-size)*100)}% - Test {int(size*100)}%\"] = accuracy\n",
        "\n",
        "    print(f\"\\n Gini Index - Train {int((1-size)*100)}% / Test {int(size*100)}%\")\n",
        "    print(confusion_matrix(y_test, y_pred_gini))\n",
        "    print(classification_report(y_test, y_pred_gini))\n",
        "\n",
        "print(\"\\n Gini Index Accuracy Results:\")\n",
        "for key, value in gini_results.items():\n",
        "    print(f\"{key}: {value:.3f}\")"
      ],
      "metadata": {
        "colab": {
          "base_uri": "https://localhost:8080/"
        },
        "id": "KP6w-gh67siU",
        "outputId": "340dc920-be09-44ea-9cab-01641f617580"
      },
      "execution_count": 14,
      "outputs": [
        {
          "output_type": "stream",
          "name": "stdout",
          "text": [
            "\n",
            " Gini Index - Train 90% / Test 10%\n",
            "[[38 40 35 28 48 45 35 35 47 43 33]\n",
            " [32 51 42 39 47 44 51 42 32 41 28]\n",
            " [29 57 50 33 50 55 47 47 50 46 39]\n",
            " [34 36 42 27 39 53 36 38 42 49 40]\n",
            " [36 38 36 42 48 37 35 42 48 47 44]\n",
            " [29 43 36 49 46 44 44 41 49 47 42]\n",
            " [49 38 36 43 38 50 26 38 44 34 33]\n",
            " [40 36 42 48 44 40 36 40 44 41 50]\n",
            " [52 38 30 42 51 41 41 43 42 44 38]\n",
            " [26 49 42 41 50 34 29 38 45 49 46]\n",
            " [44 44 35 35 44 46 49 31 43 42 48]]\n",
            "              precision    recall  f1-score   support\n",
            "\n",
            "           0       0.09      0.09      0.09       427\n",
            "           1       0.11      0.11      0.11       449\n",
            "           2       0.12      0.10      0.11       503\n",
            "           3       0.06      0.06      0.06       436\n",
            "           4       0.10      0.11      0.10       453\n",
            "           5       0.09      0.09      0.09       470\n",
            "           6       0.06      0.06      0.06       429\n",
            "           7       0.09      0.09      0.09       461\n",
            "           8       0.09      0.09      0.09       462\n",
            "           9       0.10      0.11      0.11       449\n",
            "          10       0.11      0.10      0.11       461\n",
            "\n",
            "    accuracy                           0.09      5000\n",
            "   macro avg       0.09      0.09      0.09      5000\n",
            "weighted avg       0.09      0.09      0.09      5000\n",
            "\n",
            "\n",
            " Gini Index - Train 80% / Test 20%\n",
            "[[ 62  92  83  70  84  75  70  82  77  69  82]\n",
            " [ 88  89  80  64  72  87  76  79  77  92  66]\n",
            " [ 97  96  84  84  78  90  91  92  88  93  65]\n",
            " [ 85  71  80  79  83 100  77  78  79  82  98]\n",
            " [ 86  77  87  77  70  85  80  84  73  93  97]\n",
            " [ 82  85  86  82  88  92  82  75  84  79  74]\n",
            " [ 78  94  87  95  77  91  76  93  68  74  76]\n",
            " [ 76  86  69  85  92  80  93  93  94  88  77]\n",
            " [ 72  93  80  77  82  79  80  75  84 108  86]\n",
            " [ 94  91  88  96  84  88  68  68  69  69  97]\n",
            " [ 79  94  84  90  83  77  78  84  93  90  74]]\n",
            "              precision    recall  f1-score   support\n",
            "\n",
            "           0       0.07      0.07      0.07       846\n",
            "           1       0.09      0.10      0.10       870\n",
            "           2       0.09      0.09      0.09       958\n",
            "           3       0.09      0.09      0.09       912\n",
            "           4       0.08      0.08      0.08       909\n",
            "           5       0.10      0.10      0.10       909\n",
            "           6       0.09      0.08      0.09       909\n",
            "           7       0.10      0.10      0.10       933\n",
            "           8       0.09      0.09      0.09       916\n",
            "           9       0.07      0.08      0.07       912\n",
            "          10       0.08      0.08      0.08       926\n",
            "\n",
            "    accuracy                           0.09     10000\n",
            "   macro avg       0.09      0.09      0.09     10000\n",
            "weighted avg       0.09      0.09      0.09     10000\n",
            "\n",
            "\n",
            " Gini Index - Train 70% / Test 30%\n",
            "[[115 135 100 100 142 116 118 110 110 136 101]\n",
            " [114 110 114 120 128 130 113 122 119 143 127]\n",
            " [125 123 144 134 122 118 124 118 138 127 127]\n",
            " [120 105 130 126 127 118 130 136 135 136 124]\n",
            " [ 97 134 109 120 133 134 140 119 122 123 121]\n",
            " [132 114 140 127 121 139 120 132 123 111 109]\n",
            " [116 136 120 113 136 125 126 129 128 134 118]\n",
            " [121 118 128 126 128 139 149 120 126 117 116]\n",
            " [133 116 117 135 129 124 119 117 129 127 121]\n",
            " [139 107 122 111 129 128 104 136 129 137 144]\n",
            " [118 119 120 132 111 127 133 105 106 129 148]]\n",
            "              precision    recall  f1-score   support\n",
            "\n",
            "           0       0.09      0.09      0.09      1283\n",
            "           1       0.08      0.08      0.08      1340\n",
            "           2       0.11      0.10      0.10      1400\n",
            "           3       0.09      0.09      0.09      1387\n",
            "           4       0.09      0.10      0.10      1352\n",
            "           5       0.10      0.10      0.10      1368\n",
            "           6       0.09      0.09      0.09      1381\n",
            "           7       0.09      0.09      0.09      1388\n",
            "           8       0.09      0.09      0.09      1367\n",
            "           9       0.10      0.10      0.10      1386\n",
            "          10       0.11      0.11      0.11      1348\n",
            "\n",
            "    accuracy                           0.10     15000\n",
            "   macro avg       0.10      0.10      0.10     15000\n",
            "weighted avg       0.10      0.10      0.10     15000\n",
            "\n",
            "\n",
            " Gini Index Accuracy Results:\n",
            "Train 90% - Test 10%: 0.093\n",
            "Train 80% - Test 20%: 0.087\n",
            "Train 70% - Test 30%: 0.095\n"
          ]
        }
      ]
    },
    {
      "cell_type": "markdown",
      "source": [
        "Accuracy Performance:  \n",
        "When the dataset was divided into 90% for training and 10% for testing, the model achieved an accuracy of 9.26%. Under an 80% training and 20% testing split, the accuracy decreased to 8.72%. With a 70% training and 30% testing split, the accuracy improved slightly to 9.51%. While the accuracy values across all splits are relatively close to one another, the overall performance remains notably low.\n",
        "\n",
        "Confusion Matrix Analysis:  \n",
        "The confusion matrices reveal a high misclassification rate across all categories, indicating the model’s limited capability to differentiate between various stress levels. The significant overlap among classes suggests the model struggles to accurately categorize observations. Additionally, the precision and recall scores for each class are considerably low, reflecting poor predictive performance. Increasing the training data size does not yield any significant improvements, suggesting that either the features utilized are not sufficiently informative or that the model is not well-suited for this classification task.\n",
        "\n"
      ],
      "metadata": {
        "id": "8QAcCU-QD0vS"
      }
    },
    {
      "cell_type": "code",
      "source": [
        "entropy_results = {}\n",
        "\n",
        "for size in split_sizes:\n",
        "    X_train, X_test, y_train, y_test = train_test_split(X, y, test_size=size, random_state=42)\n",
        "\n",
        "    clf_entropy = DecisionTreeClassifier(criterion='entropy', random_state=1)\n",
        "    clf_entropy.fit(X_train, y_train)\n",
        "\n",
        "    y_pred_entropy = clf_entropy.predict(X_test)\n",
        "\n",
        "    accuracy = accuracy_score(y_test, y_pred_entropy)\n",
        "    entropy_results[f\"Train {int((1-size)*100)}% - Test {int(size*100)}%\"] = accuracy\n",
        "\n",
        "    print(f\"\\n Entropy - Train {int((1-size)*100)}% / Test {int(size*100)}%\")\n",
        "    print(confusion_matrix(y_test, y_pred_entropy))\n",
        "    print(classification_report(y_test, y_pred_entropy))\n",
        "\n",
        "print(\"\\n Entropy Accuracy Results:\")\n",
        "for key, value in entropy_results.items():\n",
        "    print(f\"{key}: {value:.3f}\")"
      ],
      "metadata": {
        "colab": {
          "base_uri": "https://localhost:8080/"
        },
        "id": "mLJaPnBO_LWt",
        "outputId": "00b8ee7b-8f46-4be2-eb2b-6ec123c1d16b"
      },
      "execution_count": 13,
      "outputs": [
        {
          "output_type": "stream",
          "name": "stdout",
          "text": [
            "\n",
            " Entropy - Train 90% / Test 10%\n",
            "[[33 29 41 30 47 41 34 45 41 38 31]\n",
            " [31 36 42 47 36 50 41 49 34 44 52]\n",
            " [48 49 41 32 49 44 45 43 42 44 44]\n",
            " [42 61 45 40 35 53 32 33 45 41 47]\n",
            " [32 39 36 45 51 43 43 45 44 43 40]\n",
            " [46 39 42 37 34 42 44 31 55 37 40]\n",
            " [48 35 40 34 31 42 41 41 38 50 39]\n",
            " [43 42 36 39 44 49 31 31 37 41 45]\n",
            " [39 46 41 25 31 54 37 43 41 35 46]\n",
            " [46 36 48 49 45 41 38 43 42 33 45]\n",
            " [39 48 44 51 42 42 42 50 38 42 46]]\n",
            "              precision    recall  f1-score   support\n",
            "\n",
            "           0       0.07      0.08      0.08       410\n",
            "           1       0.08      0.08      0.08       462\n",
            "           2       0.09      0.09      0.09       481\n",
            "           3       0.09      0.08      0.09       474\n",
            "           4       0.11      0.11      0.11       461\n",
            "           5       0.08      0.09      0.09       447\n",
            "           6       0.10      0.09      0.09       439\n",
            "           7       0.07      0.07      0.07       438\n",
            "           8       0.09      0.09      0.09       438\n",
            "           9       0.07      0.07      0.07       466\n",
            "          10       0.10      0.10      0.10       484\n",
            "\n",
            "    accuracy                           0.09      5000\n",
            "   macro avg       0.09      0.09      0.09      5000\n",
            "weighted avg       0.09      0.09      0.09      5000\n",
            "\n",
            "\n",
            " Entropy - Train 80% / Test 20%\n",
            "[[ 75  77  87  65  72  92  87  87  71  84  80]\n",
            " [ 91  79  75  79  76  75  76  87  96 115  84]\n",
            " [ 89  72  67  84  81  81  96  70 103 107  87]\n",
            " [ 77  79  80  81  85  83  76 101  85  68  88]\n",
            " [ 92  69  91  66  86  85  81  75  65 108  83]\n",
            " [ 72  86  62  82  98  84  84  94  96  99  73]\n",
            " [ 73  70  81  93  96  78  87  79  78  97  62]\n",
            " [ 78  74  79  83  71  75  83  78  82  99  70]\n",
            " [ 97  91  70  86  78  83  73  84  84  81  80]\n",
            " [ 99  96  82  62  63  89 106  80  75  83  74]\n",
            " [ 72  67  90  79  86  72  90  99  97  91  94]]\n",
            "              precision    recall  f1-score   support\n",
            "\n",
            "           0       0.08      0.09      0.08       877\n",
            "           1       0.09      0.08      0.09       933\n",
            "           2       0.08      0.07      0.07       937\n",
            "           3       0.09      0.09      0.09       903\n",
            "           4       0.10      0.10      0.10       901\n",
            "           5       0.09      0.09      0.09       930\n",
            "           6       0.09      0.10      0.09       894\n",
            "           7       0.08      0.09      0.09       872\n",
            "           8       0.09      0.09      0.09       907\n",
            "           9       0.08      0.09      0.09       909\n",
            "          10       0.11      0.10      0.10       937\n",
            "\n",
            "    accuracy                           0.09     10000\n",
            "   macro avg       0.09      0.09      0.09     10000\n",
            "weighted avg       0.09      0.09      0.09     10000\n",
            "\n",
            "\n",
            " Entropy - Train 70% / Test 30%\n",
            "[[132 116 103 108 120 102 125 115 126 153 130]\n",
            " [135 102 137 117 124 133 125 129 147 136 120]\n",
            " [124 122 124 103 143 133 125 107 123 139 139]\n",
            " [111 121 121 145 139 108 116 118 113 120 127]\n",
            " [127 119 112 128 138 130 122 113 114 138 129]\n",
            " [107 103 141 113 131 138 134 126 129 150 107]\n",
            " [122 113 108 128 113 120 111 113 131 123 123]\n",
            " [127 118 133 111 128 111 111 122 122 130 125]\n",
            " [138 103 125 129 119 117 142 129 120 129 117]\n",
            " [132 120 125 124 144 122 133 124 124 129 120]\n",
            " [129 107 125 144 134 117 145 110 124 135 117]]\n",
            "              precision    recall  f1-score   support\n",
            "\n",
            "           0       0.10      0.10      0.10      1330\n",
            "           1       0.08      0.07      0.08      1405\n",
            "           2       0.09      0.09      0.09      1382\n",
            "           3       0.11      0.11      0.11      1339\n",
            "           4       0.10      0.10      0.10      1370\n",
            "           5       0.10      0.10      0.10      1379\n",
            "           6       0.08      0.09      0.08      1305\n",
            "           7       0.09      0.09      0.09      1338\n",
            "           8       0.09      0.09      0.09      1368\n",
            "           9       0.09      0.09      0.09      1397\n",
            "          10       0.09      0.08      0.09      1387\n",
            "\n",
            "    accuracy                           0.09     15000\n",
            "   macro avg       0.09      0.09      0.09     15000\n",
            "weighted avg       0.09      0.09      0.09     15000\n",
            "\n",
            "\n",
            " Entropy Accuracy Results:\n",
            "Train 90% - Test 10%: 0.087\n",
            "Train 80% - Test 20%: 0.090\n",
            "Train 70% - Test 30%: 0.092\n"
          ]
        }
      ]
    },
    {
      "cell_type": "code",
      "source": [
        "comparison_df = pd.DataFrame({\n",
        "    'Data Split': list(gini_results.keys()),\n",
        "    'Gini Accuracy': list(gini_results.values()),\n",
        "    'Entropy Accuracy': list(entropy_results.values())\n",
        "})\n",
        "\n",
        "plt.figure(figsize=(10,6))\n",
        "width = 0.3\n",
        "\n",
        "plt.bar(comparison_df['Data Split'], comparison_df['Gini Accuracy'], width, label=\"Gini Index\", color='blue')\n",
        "plt.bar(comparison_df['Data Split'], comparison_df['Entropy Accuracy'], width, label=\"Entropy\", color='orange', alpha=0.7)"
      ],
      "metadata": {
        "colab": {
          "base_uri": "https://localhost:8080/",
          "height": 439
        },
        "id": "kuy4idrL_tq3",
        "outputId": "94bb0833-a4ba-4e5d-f898-dadbea071a22"
      },
      "execution_count": 12,
      "outputs": [
        {
          "output_type": "execute_result",
          "data": {
            "text/plain": [
              "<BarContainer object of 3 artists>"
            ]
          },
          "metadata": {},
          "execution_count": 12
        },
        {
          "output_type": "display_data",
          "data": {
            "text/plain": [
              "<Figure size 1000x600 with 1 Axes>"
            ],
            "image/png": "[encoded data removed]"
          },
          "metadata": {}
        }
      ]
    },
    {
      "cell_type": "code",
      "source": [
        "!git add .\n",
        "!git commit -m \"Updated Processed_dataset.csv with new modifications\"\n",
        "!git push origin main"
      ],
      "metadata": {
        "colab": {
          "base_uri": "https://localhost:8080/"
        },
        "id": "ovklTlyKLYcu",
        "outputId": "05f0ebbb-6504-4313-dbca-e2de56c14f9a"
      },
      "execution_count": 16,
      "outputs": [
        {
          "output_type": "stream",
          "name": "stdout",
          "text": [
            "fatal: not a git repository (or any of the parent directories): .git\n",
            "fatal: not a git repository (or any of the parent directories): .git\n",
            "fatal: not a git repository (or any of the parent directories): .git\n"
          ]
        }
      ]
    }
  ]
}