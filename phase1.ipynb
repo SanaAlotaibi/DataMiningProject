{
 "cells": [
  {
   "cell_type": "markdown",
   "metadata": {},
   "source": [
    "# Corporate Stress Dataset\n",
    "### Information about our project:\n",
    "\n",
    "........................................................<br>\n",
    ".........................................................\n",
    "\n",
    "### Project Motivations:\n",
    "##### (Why we decide to work on this problem?)\n",
    "We chose this dataset because workplace stress is a big problem that affects both employees and companies. High stress can lead to burnout, low job satisfaction, and people leaving their jobs. This dataset has helpful information like stress levels, working hours, work-life balance, and job roles, which makes it good for studying workplace stress.\n",
    "\n",
    "In this project, we will find the main causes of stress and see how it changes based on things like working hours, job roles, and work-life balance. The results can help companies make workplaces better, reduce stress, and improve employee happiness and productivity.\n",
    "\n",
    "\n",
    "\n",
    "\n"
   ]
  },
  {
   "cell_type": "markdown",
   "metadata": {},
   "source": [
    "## Description of the dataset\n",
    "### 1. The goal of collecting this dataset: \n",
    "The purpose of this dataset is to gather accurate insights into employees’ stress levels and the factors that influence them. It will facilitate the exploration of correlations between various variables and stress levels, allowing for a more targeted analysis of workplace stress and its underlying causes.\n"
   ]
  },
  {
   "cell_type": "markdown",
   "metadata": {},
   "source": [
    "\n",
    "### 2. About Dataset Source\n",
    "- The dataset achieves our goal of \"Corporate Stress\" by providing an in-depth view of the stress levels experienced by corporate employees.<br>\n",
    "- Dataset Source: Kaggle.<br>\n",
    "- URL: https://www.kaggle.com/datasets/ashaychoudhary/corporate-stress-dataset-insights-into-workplace\n",
    "<br><br>\n",
    "\n",
    "### 3. General information about the dataset:\n",
    "...................................................................<br>\n",
    "....................................................................."
   ]
  },
  {
   "cell_type": "code",
   "execution_count": null,
   "metadata": {},
   "outputs": [],
   "source": [
    "import pandas as pd\n",
    "df = pd.read_csv('Dataset/corporate_stress_dataset.csv')\n",
    "read_df =pd.read_csv('Dataset/corporate_stress_dataset.csv')"
   ]
  },
  {
   "cell_type": "code",
   "execution_count": 19,
   "metadata": {},
   "outputs": [
    {
     "name": "stdout",
     "output_type": "stream",
     "text": [
      "<class 'pandas.core.frame.DataFrame'>\n",
      "RangeIndex: 50000 entries, 0 to 49999\n",
      "Data columns (total 30 columns):\n",
      " #   Column                            Non-Null Count  Dtype  \n",
      "---  ------                            --------------  -----  \n",
      " 0   ID                                50000 non-null  int64  \n",
      " 1   Age                               50000 non-null  int64  \n",
      " 2   Gender                            50000 non-null  object \n",
      " 3   Marital_Status                    50000 non-null  object \n",
      " 4   Job_Role                          50000 non-null  object \n",
      " 5   Experience_Years                  50000 non-null  int64  \n",
      " 6   Monthly_Salary_INR                50000 non-null  float64\n",
      " 7   Working_Hours_per_Week            50000 non-null  int64  \n",
      " 8   Commute_Time_Hours                50000 non-null  float64\n",
      " 9   Remote_Work                       50000 non-null  bool   \n",
      " 10  Stress_Level                      50000 non-null  int64  \n",
      " 11  Health_Issues                     37459 non-null  object \n",
      " 12  Company_Size                      50000 non-null  object \n",
      " 13  Department                        50000 non-null  object \n",
      " 14  Sleep_Hours                       50000 non-null  float64\n",
      " 15  Physical_Activity_Hours_per_Week  50000 non-null  float64\n",
      " 16  Mental_Health_Leave_Taken         50000 non-null  bool   \n",
      " 17  Manager_Support_Level             50000 non-null  int64  \n",
      " 18  Work_Pressure_Level               50000 non-null  int64  \n",
      " 19  Annual_Leaves_Taken               50000 non-null  int64  \n",
      " 20  Work_Life_Balance                 50000 non-null  int64  \n",
      " 21  Family_Support_Level              50000 non-null  int64  \n",
      " 22  Job_Satisfaction                  50000 non-null  int64  \n",
      " 23  Performance_Rating                50000 non-null  int64  \n",
      " 24  Team_Size                         50000 non-null  int64  \n",
      " 25  Training_Opportunities            50000 non-null  bool   \n",
      " 26  Gender_Bias_Experienced           50000 non-null  bool   \n",
      " 27  Discrimination_Experienced        50000 non-null  bool   \n",
      " 28  Burnout_Symptoms                  50000 non-null  object \n",
      " 29  Location                          50000 non-null  object \n",
      "dtypes: bool(5), float64(4), int64(13), object(8)\n",
      "memory usage: 9.8+ MB\n"
     ]
    }
   ],
   "source": [
    "df.info()"
   ]
  },
  {
   "cell_type": "markdown",
   "metadata": {},
   "source": [
    "#### Students' names\n",
    "- Ahlam Hadi Alqahtani\n",
    "- Sana Alotaibi\n",
    "- Afyya Abdullah Alharbi\n",
    "- Jumana Jumaa Shati\n",
    "- Lamya almania "
   ]
  }
 ],
 "metadata": {
  "kernelspec": {
   "display_name": "Python 3",
   "language": "python",
   "name": "python3"
  },
  "language_info": {
   "codemirror_mode": {
    "name": "ipython",
    "version": 3
   },
   "file_extension": ".py",
   "mimetype": "text/x-python",
   "name": "python",
   "nbconvert_exporter": "python",
   "pygments_lexer": "ipython3",
   "version": "3.12.1"
  }
 },
 "nbformat": 4,
 "nbformat_minor": 2
}
