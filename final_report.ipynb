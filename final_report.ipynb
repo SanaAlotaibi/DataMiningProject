{
 "cells": [
  {
   "cell_type": "markdown",
   "id": "6b244a33",
   "metadata": {},
   "source": [
    "# Final Report\n",
    "## 1. Problem \n",
    "#### 
\n",
    "\n",
    "\n",
    "\n",
    "#### ⦁ Why do we think it is important?"
   ]
  },
  {
   "cell_type": "markdown",
   "id": "ed26691b",
   "metadata": {},
   "source": [
    "## 2. Data Mining Task\n",
    "\n",
    "#### Classification\n",
    "\n",
    "\n",
    "#### Clustering\n",
    "\n",
    "### Goals of the Data Mining Tasks\n",
    "- **Classification Goal:** \n",
    "\n",
    "- **Clustering Goal:**\n",
    "\n"
   ]
  },
  {
   "cell_type": "markdown",
   "id": "a78a7a19",
   "metadata": {},
   "source": [
    "## 3. Data \n",
    "\n",
    "\n"
   ]
  },
  {
   "cell_type": "markdown",
   "id": "472e998e",
   "metadata": {},
   "source": [
    "## 4. Data Pre-processing"
   ]
  },
  {
   "cell_type": "markdown",
   "id": "6594b8a8",
   "metadata": {},
   "source": [
    "## 5. Data Mining Technique"
   ]
  },
  {
   "cell_type": "markdown",
   "id": "0bd79063",
   "metadata": {},
   "source": [
    "## 6. Evaluation and Comparison"
   ]
  },
  {
   "cell_type": "markdown",
   "id": "4e0ce57c",
   "metadata": {},
   "source": []
  },
  {
   "cell_type": "markdown",
   "id": "9a6b44b8",
   "metadata": {},
   "source": [
    "## 7. Findings"
   ]
  },
  {
   "cell_type": "markdown",
   "id": "1d4e6d2f",
   "metadata": {},
   "source": [
    "## 8. References"
   ]
  }
 ],
 "metadata": {
  "language_info": {
   "name": "python"
  }
 },
 "nbformat": 4,
 "nbformat_minor": 5
}
