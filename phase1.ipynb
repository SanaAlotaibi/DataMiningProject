import pandas as pd

df = pd.read_csv('Dataset/corporate_stress_dataset.csv')
filtered_df =pd.read_csv('Dataset/corporate_stress_dataset.csv')
