{
  "cells": [
    {
      "cell_type": "markdown",
      "metadata": {
        "id": "_9RdQJKPLvZJ"
      },
      "source": [
        "# Phase 2\n",
        "## Data Summarization and Preprocessing\n",
        "\n",
        "###"
      ]
    },
    {
      "cell_type": "markdown",
      "metadata": {
        "id": "MwOfO5k1LvZL"
      },
      "source": [
        "### 1-Dataset Summary and Analysis:\n"
      ]
    },
    {
      "cell_type": "markdown",
      "metadata": {
        "id": "FGCGM83fLvZM"
      },
      "source": [
        "- ####  Samples of the raw dataset."
      ]
    },
    {
      "cell_type": "code",
      "source": [
        "import pandas as pd\n",
        "data = pd.read_csv('/content/sample_data/corporate_stress_dataset.csv')\n",
        "print(data.head(5))"
      ],
      "metadata": {
        "id": "4y5BqnivOQMp",
        "outputId": "3252f83d-48f4-4ca7-c42c-1b3336fde83c",
        "colab": {
          "base_uri": "https://localhost:8080/"
        }
      },
      "execution_count": 20,
      "outputs": [
        {
          "output_type": "stream",
          "name": "stdout",
          "text": [
            "   ID  Age      Gender Marital_Status   Job_Role  Experience_Years  \\\n",
            "0   1   56  Non-Binary        Widowed  Developer                 5   \n",
            "1   2   46      Female         Single    Analyst                20   \n",
            "2   3   32      Female         Single  Developer                10   \n",
            "3   4   60      Female       Divorced    Analyst                26   \n",
            "4   5   25        Male        Married      Sales                29   \n",
            "\n",
            "   Monthly_Salary_INR  Working_Hours_per_Week  Commute_Time_Hours  \\\n",
            "0           102703.08                      44                1.72   \n",
            "1           165583.91                      54                0.62   \n",
            "2            38005.39                      81                1.22   \n",
            "3            51127.36                      79                2.03   \n",
            "4           174597.45                      63                1.45   \n",
            "\n",
            "   Remote_Work  ...  Work_Life_Balance Family_Support_Level Job_Satisfaction  \\\n",
            "0         True  ...                  9                    2                5   \n",
            "1         True  ...                  9                    1               10   \n",
            "2        False  ...                  6                    1                1   \n",
            "3        False  ...                  8                   10                5   \n",
            "4         True  ...                  3                    1                9   \n",
            "\n",
            "  Performance_Rating  Team_Size  Training_Opportunities  \\\n",
            "0                 10         38                   False   \n",
            "1                  9         72                    True   \n",
            "2                  1         67                   False   \n",
            "3                 10         98                    True   \n",
            "4                  2         85                    True   \n",
            "\n",
            "   Gender_Bias_Experienced  Discrimination_Experienced  Burnout_Symptoms  \\\n",
            "0                     True                        True                No   \n",
            "1                     True                        True                No   \n",
            "2                    False                       False               Yes   \n",
            "3                     True                       False               Yes   \n",
            "4                    False                       False                No   \n",
            "\n",
            "   Location  \n",
            "0    Tier-3  \n",
            "1    Tier-3  \n",
            "2     Metro  \n",
            "3     Metro  \n",
            "4    Tier-1  \n",
            "\n",
            "[5 rows x 30 columns]\n"
          ]
        }
      ]
    },
    {
      "cell_type": "markdown",
      "metadata": {
        "id": "NXeb5GwILvZM"
      },
      "source": [
        "- #### Generate visualizations to understand variable distribution."
      ]
    },
    {
      "cell_type": "markdown",
      "metadata": {
        "id": "Jsw6J9_fLvZM"
      },
      "source": [
        "- #### Identify and display missing values using tables and visualizations."
      ]
    },
    {
      "cell_type": "code",
      "source": [
        "missing_values = data.isna().sum()\n",
        "print(\"Missing values in each column:\")\n",
        "print(missing_values)\n",
        "print(\"\\nTotal number of missing values in the dataset:\", missing_values.sum())"
      ],
      "metadata": {
        "id": "OSem55OPOlat",
        "outputId": "f80b89d2-3aa3-4571-f64c-47e97880bc99",
        "colab": {
          "base_uri": "https://localhost:8080/"
        }
      },
      "execution_count": 21,
      "outputs": [
        {
          "output_type": "stream",
          "name": "stdout",
          "text": [
            "Missing values in each column:\n",
            "ID                                      0\n",
            "Age                                     0\n",
            "Gender                                  0\n",
            "Marital_Status                          0\n",
            "Job_Role                                0\n",
            "Experience_Years                        0\n",
            "Monthly_Salary_INR                      0\n",
            "Working_Hours_per_Week                  0\n",
            "Commute_Time_Hours                      0\n",
            "Remote_Work                             0\n",
            "Stress_Level                            0\n",
            "Health_Issues                       12541\n",
            "Company_Size                            0\n",
            "Department                              0\n",
            "Sleep_Hours                             0\n",
            "Physical_Activity_Hours_per_Week        0\n",
            "Mental_Health_Leave_Taken               0\n",
            "Manager_Support_Level                   0\n",
            "Work_Pressure_Level                     0\n",
            "Annual_Leaves_Taken                     0\n",
            "Work_Life_Balance                       0\n",
            "Family_Support_Level                    0\n",
            "Job_Satisfaction                        0\n",
            "Performance_Rating                      0\n",
            "Team_Size                               0\n",
            "Training_Opportunities                  0\n",
            "Gender_Bias_Experienced                 0\n",
            "Discrimination_Experienced              0\n",
            "Burnout_Symptoms                        0\n",
            "Location                                0\n",
            "dtype: int64\n",
            "\n",
            "Total number of missing values in the dataset: 12541\n"
          ]
        }
      ]
    },
    {
      "cell_type": "markdown",
      "metadata": {
        "id": "l1O_FboPLvZN"
      },
      "source": [
        "- #### Calculate statistical summaries (mean, variance, range)."
      ]
    },
    {
      "cell_type": "code",
      "source": [
        "stats_table = data.describe().T\n",
        "stats_table = stats_table[['mean', '50%', 'std', 'min', 'max']]\n",
        "stats_table.columns = ['Mean', 'Median', 'Std Dev', 'Min', 'Max']\n",
        "variance= data.var(numeric_only=True)\n",
        "\n",
        "print(\"\\n Central Tendency Measurements\")\n",
        "print(stats_table)\n",
        "print(\"\\n variance\")\n",
        "print(variance)"
      ],
      "metadata": {
        "id": "mJVUpJeUOx-m",
        "outputId": "4e164284-d533-4994-cf33-2ec0bf08aa67",
        "colab": {
          "base_uri": "https://localhost:8080/"
        }
      },
      "execution_count": 24,
      "outputs": [
        {
          "output_type": "stream",
          "name": "stdout",
          "text": [
            "\n",
            " Central Tendency Measurements\n",
            "                                           Mean      Median       Std Dev  \\\n",
            "ID                                 25000.500000   25000.500  14433.901067   \n",
            "Age                                   41.518600      41.000     13.833279   \n",
            "Experience_Years                      20.071580      20.000     11.835681   \n",
            "Monthly_Salary_INR                110129.926165  110168.205  52069.676542   \n",
            "Working_Hours_per_Week                62.538240      62.000     16.169810   \n",
            "Commute_Time_Hours                     1.500454       1.500      0.867738   \n",
            "Stress_Level                           5.004680       5.000      3.154745   \n",
            "Sleep_Hours                            6.498888       6.500      1.437200   \n",
            "Physical_Activity_Hours_per_Week       5.011624       5.000      2.885061   \n",
            "Manager_Support_Level                  5.004120       5.000      3.160314   \n",
            "Work_Pressure_Level                    5.004420       5.000      3.159614   \n",
            "Annual_Leaves_Taken                   14.992300      15.000      8.943398   \n",
            "Work_Life_Balance                      4.996920       5.000      3.165728   \n",
            "Family_Support_Level                   4.993940       5.000      3.160674   \n",
            "Job_Satisfaction                       4.984120       5.000      3.160030   \n",
            "Performance_Rating                     5.006940       5.000      3.176535   \n",
            "Team_Size                             50.497300      51.000     28.892380   \n",
            "\n",
            "                                       Min       Max  \n",
            "ID                                    1.00   50000.0  \n",
            "Age                                  18.00      65.0  \n",
            "Experience_Years                      0.00      40.0  \n",
            "Monthly_Salary_INR                20001.96  199992.8  \n",
            "Working_Hours_per_Week               35.00      90.0  \n",
            "Commute_Time_Hours                    0.00       3.0  \n",
            "Stress_Level                          0.00      10.0  \n",
            "Sleep_Hours                           4.00       9.0  \n",
            "Physical_Activity_Hours_per_Week      0.00      10.0  \n",
            "Manager_Support_Level                 0.00      10.0  \n",
            "Work_Pressure_Level                   0.00      10.0  \n",
            "Annual_Leaves_Taken                   0.00      30.0  \n",
            "Work_Life_Balance                     0.00      10.0  \n",
            "Family_Support_Level                  0.00      10.0  \n",
            "Job_Satisfaction                      0.00      10.0  \n",
            "Performance_Rating                    0.00      10.0  \n",
            "Team_Size                             1.00     100.0  \n",
            "\n",
            " variance\n",
            "ID                                  2.083375e+08\n",
            "Age                                 1.913596e+02\n",
            "Experience_Years                    1.400833e+02\n",
            "Monthly_Salary_INR                  2.711251e+09\n",
            "Working_Hours_per_Week              2.614628e+02\n",
            "Commute_Time_Hours                  7.529698e-01\n",
            "Remote_Work                         2.499831e-01\n",
            "Stress_Level                        9.952417e+00\n",
            "Sleep_Hours                         2.065544e+00\n",
            "Physical_Activity_Hours_per_Week    8.323575e+00\n",
            "Mental_Health_Leave_Taken           2.500028e-01\n",
            "Manager_Support_Level               9.987583e+00\n",
            "Work_Pressure_Level                 9.983160e+00\n",
            "Annual_Leaves_Taken                 7.998436e+01\n",
            "Work_Life_Balance                   1.002183e+01\n",
            "Family_Support_Level                9.989863e+00\n",
            "Job_Satisfaction                    9.985788e+00\n",
            "Performance_Rating                  1.009037e+01\n",
            "Team_Size                           8.347696e+02\n",
            "Training_Opportunities              2.500017e-01\n",
            "Gender_Bias_Experienced             2.499954e-01\n",
            "Discrimination_Experienced          2.499973e-01\n",
            "dtype: float64\n"
          ]
        }
      ]
    },
    {
      "cell_type": "markdown",
      "metadata": {
        "id": "InKTZHNhLvZN"
      },
      "source": [
        "- #### Plot variable distributions and class labels to detect class imbalance."
      ]
    },
    {
      "cell_type": "markdown",
      "metadata": {
        "id": "Ogwt_nIJLvZN"
      },
      "source": [
        "### 2-Pre-processing Techniques\n"
      ]
    },
    {
      "cell_type": "markdown",
      "metadata": {
        "id": "WlrCpYDILvZN"
      },
      "source": [
        "- #### Variable transformation."
      ]
    },
    {
      "cell_type": "markdown",
      "metadata": {
        "id": "g76Dx817LvZN"
      },
      "source": [
        "- #### Discretization."
      ]
    },
    {
      "cell_type": "markdown",
      "metadata": {
        "id": "mrMRNGGxLvZO"
      },
      "source": [
        "- #### Noise removal."
      ]
    },
    {
      "cell_type": "markdown",
      "metadata": {
        "id": "SkfMXd9qLvZO"
      },
      "source": [
        "- #### Feature selection."
      ]
    },
    {
      "cell_type": "markdown",
      "metadata": {
        "id": "RDGyuJ50LvZO"
      },
      "source": [
        "- #### Normalization."
      ]
    },
    {
      "cell_type": "markdown",
      "metadata": {
        "id": "nY4woRodLvZO"
      },
      "source": [
        "### 3-Description and analysis of the results of pre-processing techniques."
      ]
    }
  ],
  "metadata": {
    "language_info": {
      "name": "python"
    },
    "colab": {
      "provenance": []
    },
    "kernelspec": {
      "name": "python3",
      "display_name": "Python 3"
    }
  },
  "nbformat": 4,
  "nbformat_minor": 0
}